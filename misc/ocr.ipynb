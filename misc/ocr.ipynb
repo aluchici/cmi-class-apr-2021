{
 "metadata": {
  "language_info": {
   "codemirror_mode": {
    "name": "ipython",
    "version": 3
   },
   "file_extension": ".py",
   "mimetype": "text/x-python",
   "name": "python",
   "nbconvert_exporter": "python",
   "pygments_lexer": "ipython3",
   "version": "3.8.3-final"
  },
  "orig_nbformat": 2,
  "kernelspec": {
   "name": "python3",
   "display_name": "Python 3.8.3 64-bit ('anaconda3': virtualenv)",
   "metadata": {
    "interpreter": {
     "hash": "dca0ade3e726a953b501b15e8e990130d2b7799f14cfd9f4271676035ebe5511"
    }
   }
  }
 },
 "nbformat": 4,
 "nbformat_minor": 2,
 "cells": [
  {
   "cell_type": "code",
   "execution_count": 9,
   "metadata": {},
   "outputs": [],
   "source": [
    "from PIL import Image\n",
    "import pytesseract\n",
    "import sys\n",
    "from pdf2image import convert_from_path\n",
    "import os\n",
    "\n",
    "# Path of the pdf\n",
    "PDF_file = \"/Users/luchicila/work/cmi-class-apr-2021/misc/Profile-2.pdf\"\n",
    "\n",
    "'''\n",
    "Part #1 : Converting PDF to images\n",
    "'''\n",
    "\n",
    "# Store all the pages of the PDF in a variable\n",
    "pages = convert_from_path(PDF_file, 500)\n",
    "\n",
    "# Counter to store images of each page of PDF to image\n",
    "image_counter = 1\n",
    "\n",
    "# Iterate through all the pages stored above\n",
    "for page in pages:\n",
    "\n",
    "    # Declaring filename for each page of PDF as JPG\n",
    "    # For each page, filename will be:\n",
    "    # PDF page 1 -> page_1.jpg\n",
    "    # PDF page 2 -> page_2.jpg\n",
    "    # PDF page 3 -> page_3.jpg\n",
    "    # ....\n",
    "    # PDF page n -> page_n.jpg\n",
    "    filename = \"/Users/luchicila/work/cmi-class-apr-2021/misc/page_maria_\"+str(image_counter)+\".jpg\"\n",
    "        \n",
    "    # Save the image of the page in system\n",
    "    page.save(filename, 'JPEG')\n",
    "\n",
    "    # Increment the counter to update filename\n",
    "    image_counter = image_counter + 1"
   ]
  },
  {
   "cell_type": "code",
   "execution_count": 10,
   "metadata": {},
   "outputs": [],
   "source": [
    "'''\n",
    "Part #2 - Recognizing text from the images using OCR\n",
    "'''\n",
    "\n",
    "# Variable to get count of total number of pages\n",
    "filelimit = image_counter-1\n",
    "\n",
    "# Creating a text file to write the output\n",
    "outfile = \"/Users/luchicila/work/cmi-class-apr-2021/misc/out_maria_text.txt\"\n",
    "\n",
    "# Open the file in append mode so that \n",
    "# All contents of all images are added to the same file\n",
    "f = open(outfile, \"a\")\n",
    "\n",
    "# Iterate from 1 to total number of pages\n",
    "for i in range(1, filelimit + 1):\n",
    "\n",
    "    # Set filename to recognize text from\n",
    "    # Again, these files will be:\n",
    "    # page_1.jpg\n",
    "    # page_2.jpg\n",
    "    # ....\n",
    "    # page_n.jpg\n",
    "    filename = \"/Users/luchicila/work/cmi-class-apr-2021/misc/page_maria_\"+str(i)+\".jpg\"\n",
    "            \n",
    "    # Recognize the text as string in image using pytesserct\n",
    "    text = str(((pytesseract.image_to_string(Image.open(filename)))))\n",
    "\n",
    "    # The recognized text is stored in variable text\n",
    "    # Any string processing may be applied on text\n",
    "    # Here, basic formatting has been done:\n",
    "    # In many PDFs, at line ending, if a word can't\n",
    "    # be written fully, a 'hyphen' is added.\n",
    "    # The rest of the word is written in the next line\n",
    "    # Eg: This is a sample text this word here GeeksF-\n",
    "    # orGeeks is half on first line, remaining on next.\n",
    "    # To remove this, we replace every '-\\n' to ''.\n",
    "    text = text.replace('-\\n', '')    \n",
    "\n",
    "    # Finally, write the processed text to the file.\n",
    "    f.write(text)\n",
    "\n",
    "# Close the file after writing all the text.\n",
    "f.close()"
   ]
  },
  {
   "cell_type": "code",
   "execution_count": null,
   "metadata": {},
   "outputs": [],
   "source": []
  }
 ]
}